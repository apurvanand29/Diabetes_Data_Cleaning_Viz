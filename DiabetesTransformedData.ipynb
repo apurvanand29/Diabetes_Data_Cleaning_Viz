{
 "cells": [
  {
   "cell_type": "markdown",
   "id": "2f476b20-ddcc-4768-a809-bb9fc5706945",
   "metadata": {},
   "source": [
    "## Diabetes Dataset must be cleaned to handle missing values, mis-spelled words, outliers, and duplicate values"
   ]
  },
  {
   "cell_type": "code",
   "execution_count": 64,
   "id": "a9466029-2e09-42f1-8050-4a630c687a00",
   "metadata": {},
   "outputs": [],
   "source": [
    "# Importing Libraries\n",
    "import pandas as pd\n",
    "import seaborn as sns"
   ]
  },
  {
   "cell_type": "code",
   "execution_count": 65,
   "id": "2dbbfb31-3212-4df8-8bde-2161aa60fac6",
   "metadata": {},
   "outputs": [],
   "source": [
    "# Read data source csv file for Diabetes\n",
    "df = pd.read_csv(\"../Diabetes_Data_Cleaning_Viz/DataSource/diabetes_unclean.csv\")"
   ]
  },
  {
   "cell_type": "markdown",
   "id": "16146242-63ef-4faf-b574-cfe007006922",
   "metadata": {},
   "source": [
    "### Top Records of DF"
   ]
  },
  {
   "cell_type": "code",
   "execution_count": 66,
   "id": "d1a0f863-3a4a-48c2-87a9-9a5e7341a9c5",
   "metadata": {},
   "outputs": [
    {
     "data": {
      "text/html": [
       "<div>\n",
       "<style scoped>\n",
       "    .dataframe tbody tr th:only-of-type {\n",
       "        vertical-align: middle;\n",
       "    }\n",
       "\n",
       "    .dataframe tbody tr th {\n",
       "        vertical-align: top;\n",
       "    }\n",
       "\n",
       "    .dataframe thead th {\n",
       "        text-align: right;\n",
       "    }\n",
       "</style>\n",
       "<table border=\"1\" class=\"dataframe\">\n",
       "  <thead>\n",
       "    <tr style=\"text-align: right;\">\n",
       "      <th></th>\n",
       "      <th>ID</th>\n",
       "      <th>No_Pation</th>\n",
       "      <th>Gender</th>\n",
       "      <th>AGE</th>\n",
       "      <th>Urea</th>\n",
       "      <th>Cr</th>\n",
       "      <th>HbA1c</th>\n",
       "      <th>Chol</th>\n",
       "      <th>TG</th>\n",
       "      <th>HDL</th>\n",
       "      <th>LDL</th>\n",
       "      <th>VLDL</th>\n",
       "      <th>BMI</th>\n",
       "      <th>CLASS</th>\n",
       "    </tr>\n",
       "  </thead>\n",
       "  <tbody>\n",
       "    <tr>\n",
       "      <th>0</th>\n",
       "      <td>502</td>\n",
       "      <td>17975</td>\n",
       "      <td>F</td>\n",
       "      <td>50.0</td>\n",
       "      <td>4.7</td>\n",
       "      <td>46.0</td>\n",
       "      <td>4.9</td>\n",
       "      <td>4.2</td>\n",
       "      <td>0.9</td>\n",
       "      <td>2.4</td>\n",
       "      <td>1.4</td>\n",
       "      <td>0.5</td>\n",
       "      <td>24.0</td>\n",
       "      <td>N</td>\n",
       "    </tr>\n",
       "    <tr>\n",
       "      <th>1</th>\n",
       "      <td>735</td>\n",
       "      <td>34221</td>\n",
       "      <td>M</td>\n",
       "      <td>26.0</td>\n",
       "      <td>4.5</td>\n",
       "      <td>62.0</td>\n",
       "      <td>4.9</td>\n",
       "      <td>3.7</td>\n",
       "      <td>1.4</td>\n",
       "      <td>1.1</td>\n",
       "      <td>2.1</td>\n",
       "      <td>0.6</td>\n",
       "      <td>23.0</td>\n",
       "      <td>N</td>\n",
       "    </tr>\n",
       "    <tr>\n",
       "      <th>2</th>\n",
       "      <td>420</td>\n",
       "      <td>47975</td>\n",
       "      <td>F</td>\n",
       "      <td>50.0</td>\n",
       "      <td>4.7</td>\n",
       "      <td>46.0</td>\n",
       "      <td>4.9</td>\n",
       "      <td>4.2</td>\n",
       "      <td>0.9</td>\n",
       "      <td>2.4</td>\n",
       "      <td>1.4</td>\n",
       "      <td>0.5</td>\n",
       "      <td>24.0</td>\n",
       "      <td>N</td>\n",
       "    </tr>\n",
       "    <tr>\n",
       "      <th>3</th>\n",
       "      <td>680</td>\n",
       "      <td>87656</td>\n",
       "      <td>F</td>\n",
       "      <td>50.0</td>\n",
       "      <td>4.7</td>\n",
       "      <td>46.0</td>\n",
       "      <td>4.9</td>\n",
       "      <td>4.2</td>\n",
       "      <td>0.9</td>\n",
       "      <td>2.4</td>\n",
       "      <td>1.4</td>\n",
       "      <td>0.5</td>\n",
       "      <td>24.0</td>\n",
       "      <td>N</td>\n",
       "    </tr>\n",
       "    <tr>\n",
       "      <th>4</th>\n",
       "      <td>504</td>\n",
       "      <td>34223</td>\n",
       "      <td>M</td>\n",
       "      <td>33.0</td>\n",
       "      <td>7.1</td>\n",
       "      <td>46.0</td>\n",
       "      <td>4.9</td>\n",
       "      <td>4.9</td>\n",
       "      <td>1.0</td>\n",
       "      <td>0.8</td>\n",
       "      <td>2.0</td>\n",
       "      <td>0.4</td>\n",
       "      <td>21.0</td>\n",
       "      <td>N</td>\n",
       "    </tr>\n",
       "    <tr>\n",
       "      <th>...</th>\n",
       "      <td>...</td>\n",
       "      <td>...</td>\n",
       "      <td>...</td>\n",
       "      <td>...</td>\n",
       "      <td>...</td>\n",
       "      <td>...</td>\n",
       "      <td>...</td>\n",
       "      <td>...</td>\n",
       "      <td>...</td>\n",
       "      <td>...</td>\n",
       "      <td>...</td>\n",
       "      <td>...</td>\n",
       "      <td>...</td>\n",
       "      <td>...</td>\n",
       "    </tr>\n",
       "    <tr>\n",
       "      <th>1004</th>\n",
       "      <td>191</td>\n",
       "      <td>454316</td>\n",
       "      <td>M</td>\n",
       "      <td>55.0</td>\n",
       "      <td>NaN</td>\n",
       "      <td>62.0</td>\n",
       "      <td>6.8</td>\n",
       "      <td>5.3</td>\n",
       "      <td>2.0</td>\n",
       "      <td>1.0</td>\n",
       "      <td>3.5</td>\n",
       "      <td>0.9</td>\n",
       "      <td>30.1</td>\n",
       "      <td>Y</td>\n",
       "    </tr>\n",
       "    <tr>\n",
       "      <th>1005</th>\n",
       "      <td>192</td>\n",
       "      <td>454316</td>\n",
       "      <td>M</td>\n",
       "      <td>55.0</td>\n",
       "      <td>4.8</td>\n",
       "      <td>88.0</td>\n",
       "      <td>NaN</td>\n",
       "      <td>5.7</td>\n",
       "      <td>4.0</td>\n",
       "      <td>0.9</td>\n",
       "      <td>3.3</td>\n",
       "      <td>1.8</td>\n",
       "      <td>30.0</td>\n",
       "      <td>Y</td>\n",
       "    </tr>\n",
       "    <tr>\n",
       "      <th>1006</th>\n",
       "      <td>193</td>\n",
       "      <td>454316</td>\n",
       "      <td>M</td>\n",
       "      <td>62.0</td>\n",
       "      <td>6.3</td>\n",
       "      <td>82.0</td>\n",
       "      <td>6.7</td>\n",
       "      <td>5.3</td>\n",
       "      <td>2.0</td>\n",
       "      <td>1.0</td>\n",
       "      <td>3.5</td>\n",
       "      <td>NaN</td>\n",
       "      <td>30.1</td>\n",
       "      <td>Y</td>\n",
       "    </tr>\n",
       "    <tr>\n",
       "      <th>1007</th>\n",
       "      <td>194</td>\n",
       "      <td>454316</td>\n",
       "      <td>F</td>\n",
       "      <td>57.0</td>\n",
       "      <td>4.1</td>\n",
       "      <td>70.0</td>\n",
       "      <td>9.3</td>\n",
       "      <td>5.3</td>\n",
       "      <td>3.3</td>\n",
       "      <td>1.0</td>\n",
       "      <td>1.4</td>\n",
       "      <td>1.3</td>\n",
       "      <td>29.0</td>\n",
       "      <td>Y</td>\n",
       "    </tr>\n",
       "    <tr>\n",
       "      <th>1008</th>\n",
       "      <td>195</td>\n",
       "      <td>4543</td>\n",
       "      <td>f</td>\n",
       "      <td>55.0</td>\n",
       "      <td>4.1</td>\n",
       "      <td>34.0</td>\n",
       "      <td>13.9</td>\n",
       "      <td>5.4</td>\n",
       "      <td>1.6</td>\n",
       "      <td>1.6</td>\n",
       "      <td>3.1</td>\n",
       "      <td>0.7</td>\n",
       "      <td>33.0</td>\n",
       "      <td>Y</td>\n",
       "    </tr>\n",
       "  </tbody>\n",
       "</table>\n",
       "<p>1009 rows × 14 columns</p>\n",
       "</div>"
      ],
      "text/plain": [
       "       ID  No_Pation Gender   AGE  Urea    Cr  HbA1c  Chol   TG  HDL  LDL  \\\n",
       "0     502      17975      F  50.0   4.7  46.0    4.9   4.2  0.9  2.4  1.4   \n",
       "1     735      34221      M  26.0   4.5  62.0    4.9   3.7  1.4  1.1  2.1   \n",
       "2     420      47975      F  50.0   4.7  46.0    4.9   4.2  0.9  2.4  1.4   \n",
       "3     680      87656      F  50.0   4.7  46.0    4.9   4.2  0.9  2.4  1.4   \n",
       "4     504      34223      M  33.0   7.1  46.0    4.9   4.9  1.0  0.8  2.0   \n",
       "...   ...        ...    ...   ...   ...   ...    ...   ...  ...  ...  ...   \n",
       "1004  191     454316      M  55.0   NaN  62.0    6.8   5.3  2.0  1.0  3.5   \n",
       "1005  192     454316      M  55.0   4.8  88.0    NaN   5.7  4.0  0.9  3.3   \n",
       "1006  193     454316      M  62.0   6.3  82.0    6.7   5.3  2.0  1.0  3.5   \n",
       "1007  194     454316      F  57.0   4.1  70.0    9.3   5.3  3.3  1.0  1.4   \n",
       "1008  195       4543      f  55.0   4.1  34.0   13.9   5.4  1.6  1.6  3.1   \n",
       "\n",
       "      VLDL   BMI CLASS  \n",
       "0      0.5  24.0     N  \n",
       "1      0.6  23.0     N  \n",
       "2      0.5  24.0     N  \n",
       "3      0.5  24.0     N  \n",
       "4      0.4  21.0     N  \n",
       "...    ...   ...   ...  \n",
       "1004   0.9  30.1    Y   \n",
       "1005   1.8  30.0    Y   \n",
       "1006   NaN  30.1    Y   \n",
       "1007   1.3  29.0    Y   \n",
       "1008   0.7  33.0    Y   \n",
       "\n",
       "[1009 rows x 14 columns]"
      ]
     },
     "execution_count": 66,
     "metadata": {},
     "output_type": "execute_result"
    }
   ],
   "source": [
    "df"
   ]
  },
  {
   "cell_type": "code",
   "execution_count": 67,
   "id": "f5540947-8546-4044-b852-927241db0c49",
   "metadata": {},
   "outputs": [
    {
     "data": {
      "text/plain": [
       "Index(['ID', 'No_Pation', 'Gender', 'AGE', 'Urea', 'Cr', 'HbA1c', 'Chol', 'TG',\n",
       "       'HDL', 'LDL', 'VLDL', 'BMI', 'CLASS'],\n",
       "      dtype='object')"
      ]
     },
     "execution_count": 67,
     "metadata": {},
     "output_type": "execute_result"
    }
   ],
   "source": [
    "# Check number of columns\n",
    "df.columns"
   ]
  },
  {
   "cell_type": "code",
   "execution_count": 68,
   "id": "23a89db8-3b79-4ade-adf0-024b660b0355",
   "metadata": {},
   "outputs": [],
   "source": [
    "# Rename column No_Pation to NumberOfPatients\n",
    "df.rename(columns = {\"No_Pation\":\"NumberOfPatients\"}, inplace =True)"
   ]
  },
  {
   "cell_type": "code",
   "execution_count": 69,
   "id": "30b74218-1a34-4ad6-a915-f65e11a813ef",
   "metadata": {},
   "outputs": [
    {
     "data": {
      "text/html": [
       "<div>\n",
       "<style scoped>\n",
       "    .dataframe tbody tr th:only-of-type {\n",
       "        vertical-align: middle;\n",
       "    }\n",
       "\n",
       "    .dataframe tbody tr th {\n",
       "        vertical-align: top;\n",
       "    }\n",
       "\n",
       "    .dataframe thead th {\n",
       "        text-align: right;\n",
       "    }\n",
       "</style>\n",
       "<table border=\"1\" class=\"dataframe\">\n",
       "  <thead>\n",
       "    <tr style=\"text-align: right;\">\n",
       "      <th></th>\n",
       "      <th>ID</th>\n",
       "      <th>NumberOfPatients</th>\n",
       "      <th>Gender</th>\n",
       "      <th>AGE</th>\n",
       "      <th>Urea</th>\n",
       "      <th>Cr</th>\n",
       "      <th>HbA1c</th>\n",
       "      <th>Chol</th>\n",
       "      <th>TG</th>\n",
       "      <th>HDL</th>\n",
       "      <th>LDL</th>\n",
       "      <th>VLDL</th>\n",
       "      <th>BMI</th>\n",
       "      <th>CLASS</th>\n",
       "    </tr>\n",
       "  </thead>\n",
       "  <tbody>\n",
       "    <tr>\n",
       "      <th>0</th>\n",
       "      <td>502</td>\n",
       "      <td>17975</td>\n",
       "      <td>F</td>\n",
       "      <td>50.0</td>\n",
       "      <td>4.7</td>\n",
       "      <td>46.0</td>\n",
       "      <td>4.9</td>\n",
       "      <td>4.2</td>\n",
       "      <td>0.9</td>\n",
       "      <td>2.4</td>\n",
       "      <td>1.4</td>\n",
       "      <td>0.5</td>\n",
       "      <td>24.0</td>\n",
       "      <td>N</td>\n",
       "    </tr>\n",
       "    <tr>\n",
       "      <th>1</th>\n",
       "      <td>735</td>\n",
       "      <td>34221</td>\n",
       "      <td>M</td>\n",
       "      <td>26.0</td>\n",
       "      <td>4.5</td>\n",
       "      <td>62.0</td>\n",
       "      <td>4.9</td>\n",
       "      <td>3.7</td>\n",
       "      <td>1.4</td>\n",
       "      <td>1.1</td>\n",
       "      <td>2.1</td>\n",
       "      <td>0.6</td>\n",
       "      <td>23.0</td>\n",
       "      <td>N</td>\n",
       "    </tr>\n",
       "    <tr>\n",
       "      <th>2</th>\n",
       "      <td>420</td>\n",
       "      <td>47975</td>\n",
       "      <td>F</td>\n",
       "      <td>50.0</td>\n",
       "      <td>4.7</td>\n",
       "      <td>46.0</td>\n",
       "      <td>4.9</td>\n",
       "      <td>4.2</td>\n",
       "      <td>0.9</td>\n",
       "      <td>2.4</td>\n",
       "      <td>1.4</td>\n",
       "      <td>0.5</td>\n",
       "      <td>24.0</td>\n",
       "      <td>N</td>\n",
       "    </tr>\n",
       "    <tr>\n",
       "      <th>3</th>\n",
       "      <td>680</td>\n",
       "      <td>87656</td>\n",
       "      <td>F</td>\n",
       "      <td>50.0</td>\n",
       "      <td>4.7</td>\n",
       "      <td>46.0</td>\n",
       "      <td>4.9</td>\n",
       "      <td>4.2</td>\n",
       "      <td>0.9</td>\n",
       "      <td>2.4</td>\n",
       "      <td>1.4</td>\n",
       "      <td>0.5</td>\n",
       "      <td>24.0</td>\n",
       "      <td>N</td>\n",
       "    </tr>\n",
       "    <tr>\n",
       "      <th>4</th>\n",
       "      <td>504</td>\n",
       "      <td>34223</td>\n",
       "      <td>M</td>\n",
       "      <td>33.0</td>\n",
       "      <td>7.1</td>\n",
       "      <td>46.0</td>\n",
       "      <td>4.9</td>\n",
       "      <td>4.9</td>\n",
       "      <td>1.0</td>\n",
       "      <td>0.8</td>\n",
       "      <td>2.0</td>\n",
       "      <td>0.4</td>\n",
       "      <td>21.0</td>\n",
       "      <td>N</td>\n",
       "    </tr>\n",
       "    <tr>\n",
       "      <th>...</th>\n",
       "      <td>...</td>\n",
       "      <td>...</td>\n",
       "      <td>...</td>\n",
       "      <td>...</td>\n",
       "      <td>...</td>\n",
       "      <td>...</td>\n",
       "      <td>...</td>\n",
       "      <td>...</td>\n",
       "      <td>...</td>\n",
       "      <td>...</td>\n",
       "      <td>...</td>\n",
       "      <td>...</td>\n",
       "      <td>...</td>\n",
       "      <td>...</td>\n",
       "    </tr>\n",
       "    <tr>\n",
       "      <th>1004</th>\n",
       "      <td>191</td>\n",
       "      <td>454316</td>\n",
       "      <td>M</td>\n",
       "      <td>55.0</td>\n",
       "      <td>NaN</td>\n",
       "      <td>62.0</td>\n",
       "      <td>6.8</td>\n",
       "      <td>5.3</td>\n",
       "      <td>2.0</td>\n",
       "      <td>1.0</td>\n",
       "      <td>3.5</td>\n",
       "      <td>0.9</td>\n",
       "      <td>30.1</td>\n",
       "      <td>Y</td>\n",
       "    </tr>\n",
       "    <tr>\n",
       "      <th>1005</th>\n",
       "      <td>192</td>\n",
       "      <td>454316</td>\n",
       "      <td>M</td>\n",
       "      <td>55.0</td>\n",
       "      <td>4.8</td>\n",
       "      <td>88.0</td>\n",
       "      <td>NaN</td>\n",
       "      <td>5.7</td>\n",
       "      <td>4.0</td>\n",
       "      <td>0.9</td>\n",
       "      <td>3.3</td>\n",
       "      <td>1.8</td>\n",
       "      <td>30.0</td>\n",
       "      <td>Y</td>\n",
       "    </tr>\n",
       "    <tr>\n",
       "      <th>1006</th>\n",
       "      <td>193</td>\n",
       "      <td>454316</td>\n",
       "      <td>M</td>\n",
       "      <td>62.0</td>\n",
       "      <td>6.3</td>\n",
       "      <td>82.0</td>\n",
       "      <td>6.7</td>\n",
       "      <td>5.3</td>\n",
       "      <td>2.0</td>\n",
       "      <td>1.0</td>\n",
       "      <td>3.5</td>\n",
       "      <td>NaN</td>\n",
       "      <td>30.1</td>\n",
       "      <td>Y</td>\n",
       "    </tr>\n",
       "    <tr>\n",
       "      <th>1007</th>\n",
       "      <td>194</td>\n",
       "      <td>454316</td>\n",
       "      <td>F</td>\n",
       "      <td>57.0</td>\n",
       "      <td>4.1</td>\n",
       "      <td>70.0</td>\n",
       "      <td>9.3</td>\n",
       "      <td>5.3</td>\n",
       "      <td>3.3</td>\n",
       "      <td>1.0</td>\n",
       "      <td>1.4</td>\n",
       "      <td>1.3</td>\n",
       "      <td>29.0</td>\n",
       "      <td>Y</td>\n",
       "    </tr>\n",
       "    <tr>\n",
       "      <th>1008</th>\n",
       "      <td>195</td>\n",
       "      <td>4543</td>\n",
       "      <td>f</td>\n",
       "      <td>55.0</td>\n",
       "      <td>4.1</td>\n",
       "      <td>34.0</td>\n",
       "      <td>13.9</td>\n",
       "      <td>5.4</td>\n",
       "      <td>1.6</td>\n",
       "      <td>1.6</td>\n",
       "      <td>3.1</td>\n",
       "      <td>0.7</td>\n",
       "      <td>33.0</td>\n",
       "      <td>Y</td>\n",
       "    </tr>\n",
       "  </tbody>\n",
       "</table>\n",
       "<p>1009 rows × 14 columns</p>\n",
       "</div>"
      ],
      "text/plain": [
       "       ID  NumberOfPatients Gender   AGE  Urea    Cr  HbA1c  Chol   TG  HDL  \\\n",
       "0     502             17975      F  50.0   4.7  46.0    4.9   4.2  0.9  2.4   \n",
       "1     735             34221      M  26.0   4.5  62.0    4.9   3.7  1.4  1.1   \n",
       "2     420             47975      F  50.0   4.7  46.0    4.9   4.2  0.9  2.4   \n",
       "3     680             87656      F  50.0   4.7  46.0    4.9   4.2  0.9  2.4   \n",
       "4     504             34223      M  33.0   7.1  46.0    4.9   4.9  1.0  0.8   \n",
       "...   ...               ...    ...   ...   ...   ...    ...   ...  ...  ...   \n",
       "1004  191            454316      M  55.0   NaN  62.0    6.8   5.3  2.0  1.0   \n",
       "1005  192            454316      M  55.0   4.8  88.0    NaN   5.7  4.0  0.9   \n",
       "1006  193            454316      M  62.0   6.3  82.0    6.7   5.3  2.0  1.0   \n",
       "1007  194            454316      F  57.0   4.1  70.0    9.3   5.3  3.3  1.0   \n",
       "1008  195              4543      f  55.0   4.1  34.0   13.9   5.4  1.6  1.6   \n",
       "\n",
       "      LDL  VLDL   BMI CLASS  \n",
       "0     1.4   0.5  24.0     N  \n",
       "1     2.1   0.6  23.0     N  \n",
       "2     1.4   0.5  24.0     N  \n",
       "3     1.4   0.5  24.0     N  \n",
       "4     2.0   0.4  21.0     N  \n",
       "...   ...   ...   ...   ...  \n",
       "1004  3.5   0.9  30.1    Y   \n",
       "1005  3.3   1.8  30.0    Y   \n",
       "1006  3.5   NaN  30.1    Y   \n",
       "1007  1.4   1.3  29.0    Y   \n",
       "1008  3.1   0.7  33.0    Y   \n",
       "\n",
       "[1009 rows x 14 columns]"
      ]
     },
     "execution_count": 69,
     "metadata": {},
     "output_type": "execute_result"
    }
   ],
   "source": [
    "df"
   ]
  },
  {
   "cell_type": "code",
   "execution_count": 70,
   "id": "c682f1d8-cdd4-420a-be23-f8bf41301203",
   "metadata": {},
   "outputs": [
    {
     "data": {
      "text/plain": [
       "ID                  0\n",
       "NumberOfPatients    0\n",
       "Gender              0\n",
       "AGE                 1\n",
       "Urea                1\n",
       "Cr                  2\n",
       "HbA1c               3\n",
       "Chol                2\n",
       "TG                  2\n",
       "HDL                 1\n",
       "LDL                 2\n",
       "VLDL                1\n",
       "BMI                 0\n",
       "CLASS               0\n",
       "dtype: int64"
      ]
     },
     "execution_count": 70,
     "metadata": {},
     "output_type": "execute_result"
    }
   ],
   "source": [
    "df.isnull().sum()"
   ]
  },
  {
   "cell_type": "code",
   "execution_count": 71,
   "id": "070f9c8d-def4-4d29-82d6-a682b1a005d2",
   "metadata": {},
   "outputs": [
    {
     "data": {
      "text/plain": [
       "8.284155069582505"
      ]
     },
     "execution_count": 71,
     "metadata": {},
     "output_type": "execute_result"
    }
   ],
   "source": [
    "# Replace null values in HbA1c with mean value of the column\n",
    "mean_val = df[\"HbA1c\"].mean()\n",
    "mean_val"
   ]
  },
  {
   "cell_type": "code",
   "execution_count": 72,
   "id": "e087ab95-cbaa-4bb1-8718-c5ada2478660",
   "metadata": {},
   "outputs": [
    {
     "data": {
      "text/plain": [
       "0        4.900000\n",
       "1        4.900000\n",
       "2        4.900000\n",
       "3        4.900000\n",
       "4        4.900000\n",
       "          ...    \n",
       "1004     6.800000\n",
       "1005     8.284155\n",
       "1006     6.700000\n",
       "1007     9.300000\n",
       "1008    13.900000\n",
       "Name: HbA1c, Length: 1009, dtype: float64"
      ]
     },
     "execution_count": 72,
     "metadata": {},
     "output_type": "execute_result"
    }
   ],
   "source": [
    "df[\"HbA1c\"].fillna(mean_val)"
   ]
  },
  {
   "cell_type": "code",
   "execution_count": 73,
   "id": "c032722e-2fa0-460b-8f34-88b1baf3b8d5",
   "metadata": {},
   "outputs": [
    {
     "data": {
      "text/plain": [
       "ID                  0\n",
       "NumberOfPatients    0\n",
       "Gender              0\n",
       "AGE                 1\n",
       "Urea                1\n",
       "Cr                  2\n",
       "HbA1c               3\n",
       "Chol                2\n",
       "TG                  2\n",
       "HDL                 1\n",
       "LDL                 2\n",
       "VLDL                1\n",
       "BMI                 0\n",
       "CLASS               0\n",
       "dtype: int64"
      ]
     },
     "execution_count": 73,
     "metadata": {},
     "output_type": "execute_result"
    }
   ],
   "source": [
    "# Checking null status of columns\n",
    "df.isnull().sum()"
   ]
  },
  {
   "cell_type": "code",
   "execution_count": 74,
   "id": "bebab1a9-728e-4150-a6dd-489b8cf9aa21",
   "metadata": {},
   "outputs": [
    {
     "data": {
      "text/plain": [
       "ID                  0\n",
       "NumberOfPatients    0\n",
       "Gender              0\n",
       "AGE                 0\n",
       "Urea                0\n",
       "Cr                  0\n",
       "HbA1c               0\n",
       "Chol                0\n",
       "TG                  0\n",
       "HDL                 0\n",
       "LDL                 0\n",
       "VLDL                0\n",
       "BMI                 0\n",
       "CLASS               0\n",
       "dtype: int64"
      ]
     },
     "execution_count": 74,
     "metadata": {},
     "output_type": "execute_result"
    }
   ],
   "source": [
    "# Dropping all missing values\n",
    "df1 = df.dropna()\n",
    "\n",
    "# Checking null status of columns\n",
    "df1.isnull().sum()"
   ]
  },
  {
   "cell_type": "code",
   "execution_count": 75,
   "id": "8262b0a1-3278-448b-9c9a-7fdb6948147a",
   "metadata": {},
   "outputs": [
    {
     "name": "stdout",
     "output_type": "stream",
     "text": [
      "<class 'pandas.core.frame.DataFrame'>\n",
      "Index: 994 entries, 0 to 1008\n",
      "Data columns (total 14 columns):\n",
      " #   Column            Non-Null Count  Dtype  \n",
      "---  ------            --------------  -----  \n",
      " 0   ID                994 non-null    int64  \n",
      " 1   NumberOfPatients  994 non-null    int64  \n",
      " 2   Gender            994 non-null    object \n",
      " 3   AGE               994 non-null    float64\n",
      " 4   Urea              994 non-null    float64\n",
      " 5   Cr                994 non-null    float64\n",
      " 6   HbA1c             994 non-null    float64\n",
      " 7   Chol              994 non-null    float64\n",
      " 8   TG                994 non-null    float64\n",
      " 9   HDL               994 non-null    float64\n",
      " 10  LDL               994 non-null    float64\n",
      " 11  VLDL              994 non-null    float64\n",
      " 12  BMI               994 non-null    float64\n",
      " 13  CLASS             994 non-null    object \n",
      "dtypes: float64(10), int64(2), object(2)\n",
      "memory usage: 116.5+ KB\n"
     ]
    }
   ],
   "source": [
    "df1.info()"
   ]
  },
  {
   "cell_type": "code",
   "execution_count": 76,
   "id": "80958051-e822-47a7-87c1-72f039fa6b98",
   "metadata": {},
   "outputs": [
    {
     "data": {
      "text/plain": [
       "CLASS\n",
       "N     102\n",
       "N       1\n",
       "P      53\n",
       "Y     830\n",
       "Y       8\n",
       "Name: CLASS, dtype: int64"
      ]
     },
     "execution_count": 76,
     "metadata": {},
     "output_type": "execute_result"
    }
   ],
   "source": [
    "df1.groupby('CLASS')['CLASS'].agg(\"count\")"
   ]
  },
  {
   "cell_type": "code",
   "execution_count": 77,
   "id": "e07c8200-8a9e-4d04-946b-c0f297968f49",
   "metadata": {},
   "outputs": [
    {
     "data": {
      "text/plain": [
       "array(['N', 'N ', 'P', 'Y', 'Y '], dtype=object)"
      ]
     },
     "execution_count": 77,
     "metadata": {},
     "output_type": "execute_result"
    }
   ],
   "source": [
    "# Check unique types of CLASS\n",
    "df['CLASS'].unique()"
   ]
  },
  {
   "cell_type": "code",
   "execution_count": 78,
   "id": "75f377a4-317f-4b92-9ecc-05268aed03c8",
   "metadata": {},
   "outputs": [
    {
     "name": "stderr",
     "output_type": "stream",
     "text": [
      "/var/folders/3y/c1bnq2657z7c26976g0psx700000gn/T/ipykernel_51950/3807694009.py:2: SettingWithCopyWarning: \n",
      "A value is trying to be set on a copy of a slice from a DataFrame.\n",
      "Try using .loc[row_indexer,col_indexer] = value instead\n",
      "\n",
      "See the caveats in the documentation: https://pandas.pydata.org/pandas-docs/stable/user_guide/indexing.html#returning-a-view-versus-a-copy\n",
      "  df1[\"CLASS\"] = df1[\"CLASS\"].str.replace(\"N \",\"N\")\n",
      "/var/folders/3y/c1bnq2657z7c26976g0psx700000gn/T/ipykernel_51950/3807694009.py:3: SettingWithCopyWarning: \n",
      "A value is trying to be set on a copy of a slice from a DataFrame.\n",
      "Try using .loc[row_indexer,col_indexer] = value instead\n",
      "\n",
      "See the caveats in the documentation: https://pandas.pydata.org/pandas-docs/stable/user_guide/indexing.html#returning-a-view-versus-a-copy\n",
      "  df1[\"CLASS\"] = df1[\"CLASS\"].str.replace(\"Y \",\"Y\")\n"
     ]
    }
   ],
   "source": [
    "# Replacing space from CLASS\n",
    "df1[\"CLASS\"] = df1[\"CLASS\"].str.replace(\"N \",\"N\")\n",
    "df1[\"CLASS\"] = df1[\"CLASS\"].str.replace(\"Y \",\"Y\")"
   ]
  },
  {
   "cell_type": "code",
   "execution_count": 79,
   "id": "78db834c-8622-41b3-88cb-d5290254d417",
   "metadata": {},
   "outputs": [
    {
     "data": {
      "text/plain": [
       "array(['N', 'P', 'Y'], dtype=object)"
      ]
     },
     "execution_count": 79,
     "metadata": {},
     "output_type": "execute_result"
    }
   ],
   "source": [
    "df1[\"CLASS\"].unique()"
   ]
  },
  {
   "cell_type": "code",
   "execution_count": 80,
   "id": "6192cfaf-5d6c-4630-9ab3-80728f393da6",
   "metadata": {},
   "outputs": [
    {
     "data": {
      "text/plain": [
       "<Axes: ylabel='Cr'>"
      ]
     },
     "execution_count": 80,
     "metadata": {},
     "output_type": "execute_result"
    },
    {
     "data": {
      "image/png": "[encoded data removed]",
      "text/plain": [
       "<Figure size 640x480 with 1 Axes>"
      ]
     },
     "metadata": {},
     "output_type": "display_data"
    }
   ],
   "source": [
    "# Checking for outliers in the dataset\n",
    "sns.boxplot(df[\"Cr\"])"
   ]
  },
  {
   "cell_type": "code",
   "execution_count": 81,
   "id": "14e4bb87-b947-469b-a5ca-80305061d135",
   "metadata": {},
   "outputs": [
    {
     "data": {
      "text/plain": [
       "401.0"
      ]
     },
     "execution_count": 81,
     "metadata": {},
     "output_type": "execute_result"
    }
   ],
   "source": [
    "# Choosing maximum quantile to fill in the outliers\n",
    "max_cr = df[\"Cr\"].quantile(0.995)\n",
    "max_cr"
   ]
  },
  {
   "cell_type": "code",
   "execution_count": 82,
   "id": "eb80fcb2-dfaf-45ef-8dbb-06e5a3148bef",
   "metadata": {},
   "outputs": [
    {
     "data": {
      "text/html": [
       "<div>\n",
       "<style scoped>\n",
       "    .dataframe tbody tr th:only-of-type {\n",
       "        vertical-align: middle;\n",
       "    }\n",
       "\n",
       "    .dataframe tbody tr th {\n",
       "        vertical-align: top;\n",
       "    }\n",
       "\n",
       "    .dataframe thead th {\n",
       "        text-align: right;\n",
       "    }\n",
       "</style>\n",
       "<table border=\"1\" class=\"dataframe\">\n",
       "  <thead>\n",
       "    <tr style=\"text-align: right;\">\n",
       "      <th></th>\n",
       "      <th>ID</th>\n",
       "      <th>NumberOfPatients</th>\n",
       "      <th>Gender</th>\n",
       "      <th>AGE</th>\n",
       "      <th>Urea</th>\n",
       "      <th>Cr</th>\n",
       "      <th>HbA1c</th>\n",
       "      <th>Chol</th>\n",
       "      <th>TG</th>\n",
       "      <th>HDL</th>\n",
       "      <th>LDL</th>\n",
       "      <th>VLDL</th>\n",
       "      <th>BMI</th>\n",
       "      <th>CLASS</th>\n",
       "    </tr>\n",
       "  </thead>\n",
       "  <tbody>\n",
       "    <tr>\n",
       "      <th>273</th>\n",
       "      <td>1</td>\n",
       "      <td>34325</td>\n",
       "      <td>M</td>\n",
       "      <td>58.0</td>\n",
       "      <td>20.8</td>\n",
       "      <td>800.0</td>\n",
       "      <td>9.1</td>\n",
       "      <td>6.6</td>\n",
       "      <td>2.9</td>\n",
       "      <td>1.1</td>\n",
       "      <td>4.3</td>\n",
       "      <td>1.3</td>\n",
       "      <td>33.0</td>\n",
       "      <td>Y</td>\n",
       "    </tr>\n",
       "    <tr>\n",
       "      <th>283</th>\n",
       "      <td>266</td>\n",
       "      <td>24060</td>\n",
       "      <td>M</td>\n",
       "      <td>58.0</td>\n",
       "      <td>20.8</td>\n",
       "      <td>800.0</td>\n",
       "      <td>9.1</td>\n",
       "      <td>6.6</td>\n",
       "      <td>2.9</td>\n",
       "      <td>1.1</td>\n",
       "      <td>4.3</td>\n",
       "      <td>1.3</td>\n",
       "      <td>33.0</td>\n",
       "      <td>Y</td>\n",
       "    </tr>\n",
       "    <tr>\n",
       "      <th>846</th>\n",
       "      <td>1</td>\n",
       "      <td>34325</td>\n",
       "      <td>M</td>\n",
       "      <td>56.0</td>\n",
       "      <td>20.8</td>\n",
       "      <td>800.0</td>\n",
       "      <td>9.0</td>\n",
       "      <td>4.6</td>\n",
       "      <td>2.0</td>\n",
       "      <td>1.2</td>\n",
       "      <td>2.5</td>\n",
       "      <td>0.9</td>\n",
       "      <td>35.0</td>\n",
       "      <td>Y</td>\n",
       "    </tr>\n",
       "    <tr>\n",
       "      <th>860</th>\n",
       "      <td>19</td>\n",
       "      <td>51623</td>\n",
       "      <td>M</td>\n",
       "      <td>60.0</td>\n",
       "      <td>20.8</td>\n",
       "      <td>800.0</td>\n",
       "      <td>9.0</td>\n",
       "      <td>2.3</td>\n",
       "      <td>1.1</td>\n",
       "      <td>0.9</td>\n",
       "      <td>0.9</td>\n",
       "      <td>0.5</td>\n",
       "      <td>33.0</td>\n",
       "      <td>Y</td>\n",
       "    </tr>\n",
       "  </tbody>\n",
       "</table>\n",
       "</div>"
      ],
      "text/plain": [
       "      ID  NumberOfPatients Gender   AGE  Urea     Cr  HbA1c  Chol   TG  HDL  \\\n",
       "273    1             34325      M  58.0  20.8  800.0    9.1   6.6  2.9  1.1   \n",
       "283  266             24060      M  58.0  20.8  800.0    9.1   6.6  2.9  1.1   \n",
       "846    1             34325      M  56.0  20.8  800.0    9.0   4.6  2.0  1.2   \n",
       "860   19             51623      M  60.0  20.8  800.0    9.0   2.3  1.1  0.9   \n",
       "\n",
       "     LDL  VLDL   BMI CLASS  \n",
       "273  4.3   1.3  33.0     Y  \n",
       "283  4.3   1.3  33.0     Y  \n",
       "846  2.5   0.9  35.0     Y  \n",
       "860  0.9   0.5  33.0     Y  "
      ]
     },
     "execution_count": 82,
     "metadata": {},
     "output_type": "execute_result"
    }
   ],
   "source": [
    "df1[df1[\"Cr\"] > max_cr]"
   ]
  },
  {
   "cell_type": "code",
   "execution_count": 83,
   "id": "bb00619f-7d68-4288-bd50-42863d666a48",
   "metadata": {},
   "outputs": [],
   "source": [
    "# Creating a df without any outliers\n",
    "df2 = df1[df1[\"Cr\"] < max_cr]"
   ]
  },
  {
   "cell_type": "code",
   "execution_count": 84,
   "id": "83f3731b-150a-4e31-a15b-02305484896f",
   "metadata": {},
   "outputs": [
    {
     "data": {
      "text/plain": [
       "<Axes: ylabel='Cr'>"
      ]
     },
     "execution_count": 84,
     "metadata": {},
     "output_type": "execute_result"
    },
    {
     "data": {
      "image/png": "[encoded data removed]",
      "text/plain": [
       "<Figure size 640x480 with 1 Axes>"
      ]
     },
     "metadata": {},
     "output_type": "display_data"
    }
   ],
   "source": [
    "sns.boxplot(df2[\"Cr\"])"
   ]
  },
  {
   "cell_type": "code",
   "execution_count": 85,
   "id": "8309e311-a8e5-44d1-88ae-bda0a89503d8",
   "metadata": {},
   "outputs": [
    {
     "data": {
      "text/plain": [
       "<Axes: ylabel='HbA1c'>"
      ]
     },
     "execution_count": 85,
     "metadata": {},
     "output_type": "execute_result"
    },
    {
     "data": {
      "image/png": "[encoded data removed]",
      "text/plain": [
       "<Figure size 640x480 with 1 Axes>"
      ]
     },
     "metadata": {},
     "output_type": "display_data"
    }
   ],
   "source": [
    "# Checking for outliers in HbA1c\n",
    "sns.boxplot(df2[\"HbA1c\"])"
   ]
  },
  {
   "cell_type": "code",
   "execution_count": 86,
   "id": "ddeaf7ce-c01d-441c-8d97-f999d0f63728",
   "metadata": {},
   "outputs": [
    {
     "data": {
      "text/plain": [
       "0       False\n",
       "1       False\n",
       "2       False\n",
       "3       False\n",
       "4       False\n",
       "        ...  \n",
       "1000    False\n",
       "1002     True\n",
       "1003     True\n",
       "1007    False\n",
       "1008     True\n",
       "Length: 987, dtype: bool"
      ]
     },
     "execution_count": 86,
     "metadata": {},
     "output_type": "execute_result"
    }
   ],
   "source": [
    "# Checking for duplicate values\n",
    "df2.duplicated()"
   ]
  },
  {
   "cell_type": "code",
   "execution_count": 87,
   "id": "6dfc411b-024d-4707-bd46-ab122ebbec53",
   "metadata": {},
   "outputs": [],
   "source": [
    "# Dropping all duplicates\n",
    "df3 = df2.drop_duplicates()"
   ]
  },
  {
   "cell_type": "code",
   "execution_count": 88,
   "id": "177fbade-71f2-46ef-a1e0-cb0e30b32257",
   "metadata": {},
   "outputs": [
    {
     "data": {
      "text/plain": [
       "0"
      ]
     },
     "execution_count": 88,
     "metadata": {},
     "output_type": "execute_result"
    }
   ],
   "source": [
    "df3.duplicated().sum()"
   ]
  },
  {
   "cell_type": "code",
   "execution_count": 89,
   "id": "43597676-6b9f-4138-8b40-b5cf94d835a8",
   "metadata": {},
   "outputs": [
    {
     "name": "stderr",
     "output_type": "stream",
     "text": [
      "/var/folders/3y/c1bnq2657z7c26976g0psx700000gn/T/ipykernel_51950/1028667131.py:1: SettingWithCopyWarning: \n",
      "A value is trying to be set on a copy of a slice from a DataFrame.\n",
      "Try using .loc[row_indexer,col_indexer] = value instead\n",
      "\n",
      "See the caveats in the documentation: https://pandas.pydata.org/pandas-docs/stable/user_guide/indexing.html#returning-a-view-versus-a-copy\n",
      "  df3['Gender'] = df3['Gender'].str.replace(\"f\",\"F\")\n"
     ]
    }
   ],
   "source": [
    "df3['Gender'] = df3['Gender'].str.replace(\"f\",\"F\")"
   ]
  },
  {
   "cell_type": "code",
   "execution_count": 90,
   "id": "b0a37233-74ae-48e8-9d17-ee7a9c9317e9",
   "metadata": {},
   "outputs": [
    {
     "data": {
      "text/plain": [
       "array(['F', 'M'], dtype=object)"
      ]
     },
     "execution_count": 90,
     "metadata": {},
     "output_type": "execute_result"
    }
   ],
   "source": [
    "df3['Gender'].unique()"
   ]
  },
  {
   "cell_type": "code",
   "execution_count": 91,
   "id": "6367db2c-610f-457b-a78f-65f46832c83c",
   "metadata": {},
   "outputs": [],
   "source": [
    "# Saving cleaned data to csv\n",
    "df3.to_csv(\"../Diabetes_Data_Cleaning_Viz/DataSource/Cleaned_Diabetes_Data.csv\")"
   ]
  }
 ],
 "metadata": {
  "kernelspec": {
   "display_name": "Python 3 (ipykernel)",
   "language": "python",
   "name": "python3"
  },
  "language_info": {
   "codemirror_mode": {
    "name": "ipython",
    "version": 3
   },
   "file_extension": ".py",
   "mimetype": "text/x-python",
   "name": "python",
   "nbconvert_exporter": "python",
   "pygments_lexer": "ipython3",
   "version": "3.12.2"
  }
 },
 "nbformat": 4,
 "nbformat_minor": 5
}
